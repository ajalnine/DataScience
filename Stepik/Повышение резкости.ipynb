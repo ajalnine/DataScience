{
 "cells": [
  {
   "cell_type": "code",
   "execution_count": 3,
   "metadata": {},
   "outputs": [],
   "source": [
    "%matplotlib inline\n",
    "\n",
    "import math\n",
    "import numpy as np\n",
    "from skimage import img_as_float\n",
    "from skimage.io import imread, imshow, imsave\n",
    "\n",
    "def sharpkernel():\n",
    "    return np.array([[-1,-2,-1],[-2,22,-2],[-1,-2,-1]])/10\n",
    "\n",
    "img = imread(\"img.png\")\n",
    "\n",
    "kernel = sharpkernel()\n",
    "disp = kernel.shape[0] // 2\n",
    "\n",
    "def g(y,x):\n",
    "    return (img[y - disp : y + disp + 1, x - disp : x + disp + 1] * kernel).sum() \n",
    "\n",
    "g = np.vectorize(g)\n",
    "x, y = np.ogrid[disp:img.shape[0]-disp, disp:img.shape[1]-disp]\n",
    "\n",
    "imsave(\"out_img.png\", g(x,y).clip(0,255).astype(\"ubyte\"))"
   ]
  },
  {
   "cell_type": "code",
   "execution_count": null,
   "metadata": {
    "collapsed": true
   },
   "outputs": [],
   "source": []
  }
 ],
 "metadata": {
  "kernelspec": {
   "display_name": "Python 3",
   "language": "python",
   "name": "python3"
  },
  "language_info": {
   "codemirror_mode": {
    "name": "ipython",
    "version": 3
   },
   "file_extension": ".py",
   "mimetype": "text/x-python",
   "name": "python",
   "nbconvert_exporter": "python",
   "pygments_lexer": "ipython3",
   "version": "3.6.1"
  }
 },
 "nbformat": 4,
 "nbformat_minor": 2
}
