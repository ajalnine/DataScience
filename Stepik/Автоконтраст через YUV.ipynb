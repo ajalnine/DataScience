{
 "cells": [
  {
   "cell_type": "code",
   "execution_count": 45,
   "metadata": {},
   "outputs": [
    {
     "name": "stderr",
     "output_type": "stream",
     "text": [
      "C:\\ProgramData\\Anaconda3\\lib\\site-packages\\skimage\\util\\dtype.py:122: UserWarning: Possible precision loss when converting from float64 to uint8\n",
      "  .format(dtypeobj_in, dtypeobj_out))\n"
     ]
    }
   ],
   "source": [
    "from skimage.io import imread, imsave, imshow\n",
    "from skimage import img_as_float, img_as_ubyte\n",
    "import numpy as np\n",
    "\n",
    "R, G, B = [img_as_float(imread('img.png'))[:,:,c] for  c in range (3)]\n",
    "\n",
    "Y= 0.2126 * R+0.7152 * G + 0.0722 * B\n",
    "U=-0.0999 * R-0.3360 * G + 0.4360 * B\n",
    "V= 0.6150 * R-0.5586 * G - 0.0563 * B\n",
    "\n",
    "line = np.sort(Y.ravel())\n",
    "k = round(len(line)*0.05)\n",
    "xmin = line[k]\n",
    "xmax = line[-k]\n",
    "Y = ((Y - xmin) / (xmax - xmin)).clip(0,1)\n",
    "\n",
    "r= (Y + 1.2803 * V).clip(0,1)\n",
    "g= (Y - 0.2148 * U - 0.3805 * V).clip(0,1)\n",
    "b= (Y + 2.1279 * U).clip(0,1)\n",
    "\n",
    "imsave(\"out_img.png\", img_as_ubyte(np.dstack((r,g,b))))"
   ]
  },
  {
   "cell_type": "code",
   "execution_count": null,
   "metadata": {
    "collapsed": true
   },
   "outputs": [],
   "source": []
  }
 ],
 "metadata": {
  "kernelspec": {
   "display_name": "Python 3",
   "language": "python",
   "name": "python3"
  },
  "language_info": {
   "codemirror_mode": {
    "name": "ipython",
    "version": 3
   },
   "file_extension": ".py",
   "mimetype": "text/x-python",
   "name": "python",
   "nbconvert_exporter": "python",
   "pygments_lexer": "ipython3",
   "version": "3.6.1"
  }
 },
 "nbformat": 4,
 "nbformat_minor": 2
}
