{
 "cells": [
  {
   "cell_type": "code",
   "execution_count": 4,
   "metadata": {},
   "outputs": [],
   "source": [
    "%matplotlib inline\n",
    "\n",
    "import numpy as np\n",
    "from skimage.io import imread, imshow, imsave\n",
    "\n",
    "img = imread(\"img.png\")\n",
    "size = 7\n",
    "disp = 7 // 2\n",
    "\n",
    "def g(y,x):\n",
    "    return np.median(img[y - disp : y + disp + 1, x - disp : x + disp + 1]) \n",
    "\n",
    "g = np.vectorize(g)\n",
    "x, y = np.ogrid[disp:img.shape[0]-disp, disp:img.shape[1]-disp]\n",
    "\n",
    "imsave(\"out_img.png\", g(x,y).astype(\"ubyte\"))"
   ]
  },
  {
   "cell_type": "code",
   "execution_count": null,
   "metadata": {
    "collapsed": true
   },
   "outputs": [],
   "source": []
  }
 ],
 "metadata": {
  "kernelspec": {
   "display_name": "Python 3",
   "language": "python",
   "name": "python3"
  },
  "language_info": {
   "codemirror_mode": {
    "name": "ipython",
    "version": 3
   },
   "file_extension": ".py",
   "mimetype": "text/x-python",
   "name": "python",
   "nbconvert_exporter": "python",
   "pygments_lexer": "ipython3",
   "version": "3.6.1"
  }
 },
 "nbformat": 4,
 "nbformat_minor": 2
}
