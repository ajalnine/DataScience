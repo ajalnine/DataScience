{
 "cells": [
  {
   "cell_type": "code",
   "execution_count": 67,
   "metadata": {},
   "outputs": [
    {
     "name": "stderr",
     "output_type": "stream",
     "text": [
      "C:\\ProgramData\\Anaconda3\\lib\\site-packages\\skimage\\util\\dtype.py:118: UserWarning: Possible sign loss when converting negative image of type int32 to positive image of type uint8.\n",
      "  .format(dtypeobj_in, dtypeobj_out))\n",
      "C:\\ProgramData\\Anaconda3\\lib\\site-packages\\skimage\\util\\dtype.py:171: UserWarning: Downcasting int32 to uint8 without scaling because max value 255 fits in uint8\n",
      "  \"value {} fits in {}\".format(a.dtype, dtype, a.max(), dtype))\n"
     ]
    }
   ],
   "source": [
    "from skimage.io import imread, imsave, imshow\n",
    "from skimage import img_as_float, img_as_ubyte\n",
    "import numpy as np\n",
    "\n",
    "rgb = imread('img.png')\n",
    "\n",
    "cdf = [len(rgb[rgb<=a]) for a in range(256)]\n",
    "n = cdf[-1]\n",
    "cdfmin=min([x for x in cdf if x>0])\n",
    "g = np.vectorize(lambda x: round((cdf[x]-cdfmin)/(n-1)*255))\n",
    "\n",
    "imsave(\"out_img.png\", img_as_ubyte(g(rgb).clip(0,255)))"
   ]
  },
  {
   "cell_type": "code",
   "execution_count": null,
   "metadata": {
    "collapsed": true
   },
   "outputs": [],
   "source": []
  }
 ],
 "metadata": {
  "kernelspec": {
   "display_name": "Python 3",
   "language": "python",
   "name": "python3"
  },
  "language_info": {
   "codemirror_mode": {
    "name": "ipython",
    "version": 3
   },
   "file_extension": ".py",
   "mimetype": "text/x-python",
   "name": "python",
   "nbconvert_exporter": "python",
   "pygments_lexer": "ipython3",
   "version": "3.6.1"
  }
 },
 "nbformat": 4,
 "nbformat_minor": 2
}
