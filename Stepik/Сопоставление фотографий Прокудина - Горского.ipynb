{
 "cells": [
  {
   "cell_type": "code",
   "execution_count": 35,
   "metadata": {},
   "outputs": [
    {
     "data": {
      "text/plain": [
       "((153, 236), (857, 238))"
      ]
     },
     "execution_count": 35,
     "metadata": {},
     "output_type": "execute_result"
    }
   ],
   "source": [
    "%matplotlib inline\n",
    "from skimage import img_as_float\n",
    "from skimage.io import imread, imsave, imshow\n",
    "import numpy as np\n",
    "\n",
    "def GetChannelDisp(channel1, channel2, maxshift):\n",
    "    best_shift=(-maxshift,-maxshift)\n",
    "    best_corr = 0\n",
    "    \n",
    "    for dx in range(-maxshift, maxshift):\n",
    "        for dy in range(-maxshift, maxshift):\n",
    "            rc = np.roll(channel1, dy, axis=0)\n",
    "            rc = np.roll(rc, dx, axis=1)\n",
    "            c = (channel2 * rc).sum()\n",
    "            if best_corr < c:\n",
    "                best_corr = c\n",
    "                best_shift = (dy,dx)\n",
    "                best_channel  = rc\n",
    "    return (best_shift, best_channel)\n",
    "    \n",
    "def align(img, disp_g):\n",
    "    source_height = img.shape[0]//3\n",
    "    strip = int(source_height * 0.1)\n",
    "    channel_height = source_height - 2 * strip\n",
    "    \n",
    "    b = img[strip : strip + channel_height , strip: -strip]\n",
    "    g = img[source_height + strip : source_height + strip + channel_height, strip: -strip]\n",
    "    r = img[source_height * 2 + strip: source_height * 2 + strip + channel_height, strip: -strip]\n",
    "\n",
    "    db = GetChannelDisp(b, g, 30)\n",
    "    dr = GetChannelDisp(r, g, 30)\n",
    "    \n",
    "    row_b = -db[0][0] + disp_g[0] - source_height\n",
    "    col_b = -db[0][1] + disp_g[1]\n",
    "    row_r = -dr[0][0] + disp_g[0] + source_height\n",
    "    col_r = -dr[0][1] + disp_g[1]\n",
    "    \n",
    "    return (row_b, col_b), (row_r, col_r)\n",
    "\n",
    "align (img_as_float(imread(\"00.png\")), (508,237))\n",
    "\n",
    "\n"
   ]
  },
  {
   "cell_type": "code",
   "execution_count": 38,
   "metadata": {},
   "outputs": [
    {
     "data": {
      "text/plain": [
       "(601, 801, 3)"
      ]
     },
     "execution_count": 38,
     "metadata": {},
     "output_type": "execute_result"
    }
   ],
   "source": [
    "img.shape"
   ]
  },
  {
   "cell_type": "code",
   "execution_count": 27,
   "metadata": {
    "collapsed": true
   },
   "outputs": [],
   "source": []
  },
  {
   "cell_type": "code",
   "execution_count": null,
   "metadata": {
    "collapsed": true
   },
   "outputs": [],
   "source": []
  }
 ],
 "metadata": {
  "kernelspec": {
   "display_name": "Python 3",
   "language": "python",
   "name": "python3"
  },
  "language_info": {
   "codemirror_mode": {
    "name": "ipython",
    "version": 3
   },
   "file_extension": ".py",
   "mimetype": "text/x-python",
   "name": "python",
   "nbconvert_exporter": "python",
   "pygments_lexer": "ipython3",
   "version": "3.6.1"
  }
 },
 "nbformat": 4,
 "nbformat_minor": 2
}
