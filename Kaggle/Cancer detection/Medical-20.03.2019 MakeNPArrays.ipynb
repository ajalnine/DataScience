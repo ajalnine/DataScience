{
 "cells": [
  {
   "cell_type": "markdown",
   "metadata": {
    "_uuid": "f58d9dc12fae65dfae0d415a92b9b99b3c78cb94"
   },
   "source": [
    "## Medical"
   ]
  },
  {
   "cell_type": "code",
   "execution_count": 1,
   "metadata": {
    "_uuid": "6702c34bd58b243538a43f91d8874d641969fe15"
   },
   "outputs": [
    {
     "name": "stderr",
     "output_type": "stream",
     "text": [
      "Using TensorFlow backend.\n"
     ]
    },
    {
     "name": "stdout",
     "output_type": "stream",
     "text": [
      "[name: \"/device:CPU:0\"\n",
      "device_type: \"CPU\"\n",
      "memory_limit: 268435456\n",
      "locality {\n",
      "}\n",
      "incarnation: 12341127001846435675\n",
      ", name: \"/device:GPU:0\"\n",
      "device_type: \"GPU\"\n",
      "memory_limit: 4793146554\n",
      "locality {\n",
      "  bus_id: 1\n",
      "  links {\n",
      "  }\n",
      "}\n",
      "incarnation: 11796126582323103706\n",
      "physical_device_desc: \"device: 0, name: GeForce GTX 1060 6GB, pci bus id: 0000:08:00.0, compute capability: 6.1\"\n",
      "]\n"
     ]
    }
   ],
   "source": [
    "from math import *\n",
    "import pandas as pd\n",
    "import numpy as np\n",
    "import tensorflow as tf\n",
    "import warnings\n",
    "from sklearn.metrics import accuracy_score\n",
    "from sklearn.utils import shuffle\n",
    "import matplotlib.pyplot as plt\n",
    "from matplotlib import gridspec\n",
    "from scipy import stats\n",
    "import cv2\n",
    "import keras\n",
    "from keras.models import Sequential, model_from_yaml, Model\n",
    "from keras.layers import Dense, Dropout, BatchNormalization, Activation, Convolution2D, Flatten, MaxPooling2D,Input\n",
    "from keras.optimizers import Adam, RMSprop\n",
    "from keras import backend as K\n",
    "from tensorflow.python.client import device_lib\n",
    "from tensorflow.python.ops import array_ops\n",
    "from keras.utils.np_utils import to_categorical\n",
    "from keras.preprocessing.image import ImageDataGenerator\n",
    "from keras.callbacks import ReduceLROnPlateau, EarlyStopping, ModelCheckpoint, TensorBoard\n",
    "from keras.applications.densenet import DenseNet169\n",
    "import albumentations\n",
    "import seaborn as sns\n",
    "\n",
    "sns.set_style(\"whitegrid\")\n",
    "pd.set_option('display.max_columns', None)\n",
    "pd.set_option('display.max_rows', 200)\n",
    "warnings.filterwarnings('ignore')\n",
    "\n",
    "print(device_lib.list_local_devices())\n",
    "config = tf.ConfigProto(device_count={\"CPU\": 1, \"GPU\" : 1})\n",
    "session = tf.Session(config=config)\n",
    "K.set_session(session)"
   ]
  },
  {
   "cell_type": "code",
   "execution_count": 2,
   "metadata": {
    "collapsed": true
   },
   "outputs": [],
   "source": [
    "def preprocess_np(image):\n",
    "    return (image.astype(np.uint8))\n"
   ]
  },
  {
   "cell_type": "code",
   "execution_count": 3,
   "metadata": {
    "collapsed": true
   },
   "outputs": [],
   "source": [
    "files = pd.read_csv(r\"c:/users/ajaln/train_labels.csv\", dtype={\"label\": np.str, \"id\": np.str})\n",
    "patches = pd.read_csv(r\"c:/users/ajaln/patch_id_wsi.csv\")\n",
    "wsi = patches[\"wsi\"].unique()\n",
    "np.random.shuffle(wsi)\n",
    "wsi_split = pd.DataFrame(data=wsi, columns=[\"wsi\"])\n",
    "wsi_split[\"is_val\"] = False\n",
    "\n",
    "val_length = wsi.shape[0] * 0.33\n",
    "wsi_split.loc[0:val_length, \"is_val\"] = True\n",
    "\n",
    "patches = pd.merge(patches, wsi_split, on=\"wsi\")\n",
    "files = pd.merge(files, patches, on = \"id\")\n",
    "files[\"filename\"] = files[\"id\"]+\".tif\"\n",
    "files = shuffle(files)"
   ]
  },
  {
   "cell_type": "code",
   "execution_count": 4,
   "metadata": {},
   "outputs": [
    {
     "data": {
      "text/html": [
       "<div>\n",
       "<style>\n",
       "    .dataframe thead tr:only-child th {\n",
       "        text-align: right;\n",
       "    }\n",
       "\n",
       "    .dataframe thead th {\n",
       "        text-align: left;\n",
       "    }\n",
       "\n",
       "    .dataframe tbody tr th {\n",
       "        vertical-align: top;\n",
       "    }\n",
       "</style>\n",
       "<table border=\"1\" class=\"dataframe\">\n",
       "  <thead>\n",
       "    <tr style=\"text-align: right;\">\n",
       "      <th></th>\n",
       "      <th>id</th>\n",
       "      <th>label</th>\n",
       "      <th>wsi</th>\n",
       "      <th>is_val</th>\n",
       "      <th>filename</th>\n",
       "    </tr>\n",
       "  </thead>\n",
       "  <tbody>\n",
       "    <tr>\n",
       "      <th>177428</th>\n",
       "      <td>aa0b9af4e71c4dc83530c282ff6c72edf3868284</td>\n",
       "      <td>0</td>\n",
       "      <td>camelyon16_train_normal_120</td>\n",
       "      <td>True</td>\n",
       "      <td>aa0b9af4e71c4dc83530c282ff6c72edf3868284.tif</td>\n",
       "    </tr>\n",
       "    <tr>\n",
       "      <th>173752</th>\n",
       "      <td>f559ea6c31b740b59b638aa8e7d7c1c377948b97</td>\n",
       "      <td>1</td>\n",
       "      <td>camelyon16_train_tumor_061</td>\n",
       "      <td>True</td>\n",
       "      <td>f559ea6c31b740b59b638aa8e7d7c1c377948b97.tif</td>\n",
       "    </tr>\n",
       "    <tr>\n",
       "      <th>81623</th>\n",
       "      <td>c33134b3923cb067f9024a7acdf3115bec872a10</td>\n",
       "      <td>1</td>\n",
       "      <td>camelyon16_train_tumor_088</td>\n",
       "      <td>False</td>\n",
       "      <td>c33134b3923cb067f9024a7acdf3115bec872a10.tif</td>\n",
       "    </tr>\n",
       "    <tr>\n",
       "      <th>30453</th>\n",
       "      <td>4a21c92a5a5637be52a6f1ecd9902a09fbc00e1e</td>\n",
       "      <td>0</td>\n",
       "      <td>camelyon16_train_tumor_008</td>\n",
       "      <td>False</td>\n",
       "      <td>4a21c92a5a5637be52a6f1ecd9902a09fbc00e1e.tif</td>\n",
       "    </tr>\n",
       "    <tr>\n",
       "      <th>127766</th>\n",
       "      <td>2ab23c9e6dd2343293f2c7195deace63e7c20ec9</td>\n",
       "      <td>1</td>\n",
       "      <td>camelyon16_train_tumor_016</td>\n",
       "      <td>False</td>\n",
       "      <td>2ab23c9e6dd2343293f2c7195deace63e7c20ec9.tif</td>\n",
       "    </tr>\n",
       "  </tbody>\n",
       "</table>\n",
       "</div>"
      ],
      "text/plain": [
       "                                              id label  \\\n",
       "177428  aa0b9af4e71c4dc83530c282ff6c72edf3868284     0   \n",
       "173752  f559ea6c31b740b59b638aa8e7d7c1c377948b97     1   \n",
       "81623   c33134b3923cb067f9024a7acdf3115bec872a10     1   \n",
       "30453   4a21c92a5a5637be52a6f1ecd9902a09fbc00e1e     0   \n",
       "127766  2ab23c9e6dd2343293f2c7195deace63e7c20ec9     1   \n",
       "\n",
       "                                wsi  is_val  \\\n",
       "177428  camelyon16_train_normal_120    True   \n",
       "173752   camelyon16_train_tumor_061    True   \n",
       "81623    camelyon16_train_tumor_088   False   \n",
       "30453    camelyon16_train_tumor_008   False   \n",
       "127766   camelyon16_train_tumor_016   False   \n",
       "\n",
       "                                            filename  \n",
       "177428  aa0b9af4e71c4dc83530c282ff6c72edf3868284.tif  \n",
       "173752  f559ea6c31b740b59b638aa8e7d7c1c377948b97.tif  \n",
       "81623   c33134b3923cb067f9024a7acdf3115bec872a10.tif  \n",
       "30453   4a21c92a5a5637be52a6f1ecd9902a09fbc00e1e.tif  \n",
       "127766  2ab23c9e6dd2343293f2c7195deace63e7c20ec9.tif  "
      ]
     },
     "execution_count": 4,
     "metadata": {},
     "output_type": "execute_result"
    }
   ],
   "source": [
    "files.head()"
   ]
  },
  {
   "cell_type": "code",
   "execution_count": 5,
   "metadata": {
    "collapsed": true
   },
   "outputs": [],
   "source": [
    "\n",
    "datagen_np = ImageDataGenerator(preprocessing_function=preprocess_np)\n"
   ]
  },
  {
   "cell_type": "code",
   "execution_count": 6,
   "metadata": {},
   "outputs": [
    {
     "name": "stdout",
     "output_type": "stream",
     "text": [
      "Found 124576 images belonging to 2 classes.\n",
      "Found 68176 images belonging to 2 classes.\n",
      "Found 57458 images belonging to 1 classes.\n"
     ]
    }
   ],
   "source": [
    "np_generator = datagen_np.flow_from_dataframe(dataframe=files[files[\"is_val\"]==False],\n",
    "                                                    directory=r\"c:/users/ajaln/trn/\",\n",
    "                                                    x_col='filename',\n",
    "                                                    y_col='label',\n",
    "                                                    has_ext=True,\n",
    "                                                    target_size = (96, 96),\n",
    "                                                    batch_size = 3200,\n",
    "                                                    color_mode=\"rgb\", \n",
    "                                                    class_mode = \"binary\")\n",
    "\n",
    "np_val_generator = datagen_np.flow_from_dataframe(dataframe=files[files[\"is_val\"]==True],\n",
    "                                                    directory=r\"c:/users/ajaln/trn/\",\n",
    "                                                    x_col='filename',\n",
    "                                                    y_col='label',\n",
    "                                                    has_ext=True,\n",
    "                                                    target_size = (96, 96),\n",
    "                                                    batch_size = 3200,\n",
    "                                                    color_mode=\"rgb\", \n",
    "                                                    class_mode = \"binary\")\n",
    "\n",
    "np_test_generator = datagen_np.flow_from_directory(directory=r\"c:/users/ajaln/test/\",\n",
    "                                                    target_size=(96, 96),\n",
    "                                                    color_mode=\"rgb\", batch_size=3200,\n",
    "                                                    class_mode=\"binary\", shuffle=False)"
   ]
  },
  {
   "cell_type": "code",
   "execution_count": 8,
   "metadata": {},
   "outputs": [
    {
     "name": "stdout",
     "output_type": "stream",
     "text": [
      "(3200, 96, 96, 3)\n",
      "(6400, 96, 96, 3)\n",
      "(9600, 96, 96, 3)\n",
      "(12800, 96, 96, 3)\n",
      "(16000, 96, 96, 3)\n",
      "(19200, 96, 96, 3)\n",
      "(22400, 96, 96, 3)\n",
      "(25600, 96, 96, 3)\n",
      "(28800, 96, 96, 3)\n",
      "(32000, 96, 96, 3)\n",
      "(35200, 96, 96, 3)\n",
      "(38400, 96, 96, 3)\n",
      "(41600, 96, 96, 3)\n",
      "(44800, 96, 96, 3)\n",
      "(48000, 96, 96, 3)\n",
      "(51200, 96, 96, 3)\n",
      "(54400, 96, 96, 3)\n",
      "(57600, 96, 96, 3)\n",
      "(60800, 96, 96, 3)\n",
      "(64000, 96, 96, 3)\n",
      "(67200, 96, 96, 3)\n",
      "(70400, 96, 96, 3)\n",
      "(73600, 96, 96, 3)\n",
      "(76800, 96, 96, 3)\n",
      "(80000, 96, 96, 3)\n",
      "(83200, 96, 96, 3)\n",
      "(86400, 96, 96, 3)\n",
      "(89600, 96, 96, 3)\n",
      "(92800, 96, 96, 3)\n",
      "(96000, 96, 96, 3)\n",
      "(99200, 96, 96, 3)\n"
     ]
    }
   ],
   "source": [
    "indep = np.empty([0,96,96,3])\n",
    "dep = np.empty([0])\n",
    "\n",
    "for i, d in np_generator:\n",
    "    indep = np.append(indep, i, axis=0)\n",
    "    dep = np.append(dep, d, axis=0)\n",
    "    print (indep.shape)\n",
    "    if (indep.shape[0]>96000):\n",
    "        break"
   ]
  },
  {
   "cell_type": "code",
   "execution_count": 9,
   "metadata": {
    "collapsed": true
   },
   "outputs": [],
   "source": [
    "indep = indep[:96000,:,:,:]        \n",
    "dep = dep[:96000]        \n",
    "np.save(\"indep.npy\", indep)\n",
    "np.save(\"dep.npy\", dep)"
   ]
  },
  {
   "cell_type": "code",
   "execution_count": 10,
   "metadata": {},
   "outputs": [
    {
     "name": "stdout",
     "output_type": "stream",
     "text": [
      "(3200, 96, 96, 3)\n",
      "(6400, 96, 96, 3)\n",
      "(9600, 96, 96, 3)\n",
      "(12800, 96, 96, 3)\n",
      "(16000, 96, 96, 3)\n",
      "(19200, 96, 96, 3)\n",
      "(22400, 96, 96, 3)\n",
      "(25600, 96, 96, 3)\n",
      "(28800, 96, 96, 3)\n",
      "(32000, 96, 96, 3)\n",
      "(35200, 96, 96, 3)\n",
      "(38400, 96, 96, 3)\n"
     ]
    }
   ],
   "source": [
    "indep_val = np.empty([0,96,96,3])\n",
    "dep_val = np.empty([0])\n",
    "\n",
    "for i, d in np_val_generator:\n",
    "    indep_val = np.append(indep_val, i, axis=0)\n",
    "    dep_val = np.append(dep_val, d, axis=0)\n",
    "    print (indep_val.shape)\n",
    "    if (indep_val.shape[0]>36000):\n",
    "        break"
   ]
  },
  {
   "cell_type": "code",
   "execution_count": 11,
   "metadata": {
    "collapsed": true
   },
   "outputs": [],
   "source": [
    "indep_val = indep_val[:36000,:,:,:]        \n",
    "dep_val = dep_val[:36000]        \n",
    "np.save(\"indep_val.npy\", indep_val)\n",
    "np.save(\"dep_val.npy\", dep_val)"
   ]
  },
  {
   "cell_type": "code",
   "execution_count": null,
   "metadata": {
    "collapsed": true
   },
   "outputs": [],
   "source": [
    "res = np.empty([0,96,96,3])\n",
    "samples = pd.read_csv(r\"c:/users/ajaln/sample_submission.csv\", usecols=[\"id\"])\n",
    "n = samples.shape[0]\n",
    "print(n)\n",
    "for i, d in np_test_generator:\n",
    "    res = np.append(res, i, axis=0)\n",
    "    print (res.shape)\n",
    "    if (res.shape[0]>n):\n",
    "        break\n",
    "res = res[:n]\n",
    "np.save(\"res.npy\", res)\n",
    "print (res.shape)"
   ]
  },
  {
   "cell_type": "code",
   "execution_count": null,
   "metadata": {
    "collapsed": true
   },
   "outputs": [],
   "source": []
  }
 ],
 "metadata": {
  "kernelspec": {
   "display_name": "Python 3",
   "language": "python",
   "name": "python3"
  },
  "language_info": {
   "codemirror_mode": {
    "name": "ipython",
    "version": 3
   },
   "file_extension": ".py",
   "mimetype": "text/x-python",
   "name": "python",
   "nbconvert_exporter": "python",
   "pygments_lexer": "ipython3",
   "version": "3.6.1"
  }
 },
 "nbformat": 4,
 "nbformat_minor": 1
}
