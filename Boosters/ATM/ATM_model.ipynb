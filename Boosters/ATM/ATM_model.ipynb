{
 "cells": [
  {
   "cell_type": "code",
   "execution_count": 1,
   "metadata": {
    "collapsed": true
   },
   "outputs": [],
   "source": [
    "from math import *\n",
    "import pandas as pd\n",
    "import numpy as np\n",
    "import warnings\n",
    "from sklearn.metrics import mean_squared_error, make_scorer\n",
    "from sklearn.model_selection import train_test_split, GridSearchCV, cross_val_score\n",
    "from sklearn.preprocessing import Imputer, StandardScaler\n",
    "import matplotlib.pyplot as plt\n",
    "import random\n",
    "import statistics\n",
    "from IPython.display import Image\n",
    "import lightgbm as lgb\n",
    "import codecs\n",
    "\n",
    "pd.set_option('display.max_columns', None)\n",
    "pd.set_option('display.max_rows', 200)\n",
    "warnings.filterwarnings('ignore')"
   ]
  },
  {
   "cell_type": "code",
   "execution_count": 2,
   "metadata": {
    "collapsed": true
   },
   "outputs": [],
   "source": [
    "def rmse(y_true, y_pred):\n",
    "    return sqrt(mean_squared_error(y_true, y_pred))"
   ]
  },
  {
   "cell_type": "code",
   "execution_count": 3,
   "metadata": {
    "collapsed": true
   },
   "outputs": [],
   "source": [
    "def back_exclusion(indep, indep_test, dep_test, indep_train, dep_train, result, depth):\n",
    "    rmse_scorer = make_scorer(rmse, greater_is_better=False)\n",
    "    features_to_test = indep.columns\n",
    "    allfeatures = [x for x in features_to_test]\n",
    "    gsel = lgb.LGBMRegressor(objective = 'regression',  \n",
    "                       max_depth = depth,\n",
    "                       learning_rate = 0.077, lambda_l1 = 0.0009, lambda_l2 = 0.0064,\n",
    "                       n_estimators = 86, n_jobs=10, num_leaves=17)\n",
    "    gsel.fit(indep_train.loc[:,allfeatures], dep_train)\n",
    "    current_rmse =  -cross_val_score(gsel, indep_test, dep_test, scoring=rmse_scorer, cv=5).mean()\n",
    "#           \n",
    "\n",
    "    print (\"Начальный rmse: \",current_rmse)\n",
    "    deleted = []\n",
    "    while (True):\n",
    "        max_rmse = current_rmse\n",
    "        for feature in allfeatures:\n",
    "            print (\"Проверяется: \", feature)\n",
    "            featureToTest = [x for x in allfeatures if  x != feature]\n",
    "            gsel = lgb.LGBMRegressor(objective = 'regression',\n",
    "                       max_depth = depth,\n",
    "                       learning_rate = 0.068, lambda_l1 = 0.0009, lambda_l2 = 0.0064,\n",
    "                       n_estimators = 95, n_jobs=10, num_leaves=17, min_child_samples = 10)\n",
    "            gsel.fit(indep_train.loc[:,featureToTest], dep_train, eval_metric='rmse')\n",
    "            r = -cross_val_score(gsel, indep_test, dep_test, scoring=rmse_scorer, cv=5).mean()\n",
    "#            r = rmse(y_true=dep_test, y_pred=gsel.predict(indep_test.loc[:,featureToTest]))\n",
    "            if (max_rmse > r):\n",
    "                max_rmse = r\n",
    "                badfeature = feature\n",
    "                print(\"Наихудшая фича: \", badfeature, r)\n",
    "        if (max_rmse >= current_rmse):\n",
    "            break\n",
    "        current_rmse = max_rmse\n",
    "        print (\"Текущий rmse: \", current_rmse)\n",
    "        allfeatures.remove(badfeature)\n",
    "        print(\"Удалено: \", badfeature)\n",
    "        deleted.append(badfeature)\n",
    "    indep =  indep.loc[:,allfeatures]\n",
    "    indep_test =  indep_test.loc[:,allfeatures]\n",
    "    indep_train =  indep_train.loc[:,allfeatures]\n",
    "    result =  result.loc[:,allfeatures]\n",
    "\n",
    "    print (\"Итого удалено: \", deleted)\n",
    "    return (indep, indep_test, indep_train, result)"
   ]
  },
  {
   "cell_type": "code",
   "execution_count": 4,
   "metadata": {
    "collapsed": true
   },
   "outputs": [],
   "source": [
    "def make_models(dep, indep, result, depth, folds=5):\n",
    "    models = []\n",
    "    for i in range(0, folds):\n",
    "        indep_train, indep_test, dep_train, dep_test = train_test_split(indep, dep, test_size=0.40, random_state=32+i)\n",
    "        gs1 = lgb.LGBMRegressor(oobjective = 'regression',\n",
    "                       max_depth = depth,\n",
    "                       learning_rate = 0.068, lambda_l1 = 0.0009, lambda_l2 = 0.0064,\n",
    "                       n_estimators = 95, n_jobs=10, num_leaves=17, min_child_samples = 10)\n",
    "        gs1.fit(indep_train, dep_train, eval_set=[(indep_test, dep_test)], eval_metric='rmse', early_stopping_rounds=5, verbose=False);\n",
    "        models.append(gs1)\n",
    "\n",
    "    pred = pd.DataFrame()    \n",
    "    pred2 = pd.DataFrame()    \n",
    "    res = pd.DataFrame()    \n",
    "\n",
    "    for i in range(0, folds):\n",
    "        model=models[i]\n",
    "        pred[\"p\"+str(i)]=model.predict(indep_test)\n",
    "        pred2[\"p\"+str(i)]=model.predict(indep_train)\n",
    "        res[\"r\"+str(i)]=model.predict(result)\n",
    "\n",
    "    pmean = pred.mean(axis=1)\n",
    "    pmean2 = pred2.mean(axis=1)\n",
    "    rmean = res.mean(axis=1)\n",
    "    print(rmse(y_true=dep_test, y_pred=pmean), rmse(y_true=dep_train, y_pred=pmean2), folds) \n",
    "    return (pmean, pmean2, rmean)"
   ]
  },
  {
   "cell_type": "code",
   "execution_count": 5,
   "metadata": {
    "collapsed": true
   },
   "outputs": [],
   "source": [
    "def prepare_data(d):\n",
    "    c_columns = d.columns\n",
    "    c_index = d.index\n",
    "\n",
    "    imp = Imputer(strategy=\"most_frequent\")\n",
    "\n",
    "    d = pd.DataFrame(imp.fit_transform(d))\n",
    "    d.columns = c_columns\n",
    "    d.index = c_index\n",
    "\n",
    "    predict = d[d[\"is_test\"]==True]\n",
    "    train = d[d[\"is_test\"]==False]\n",
    "\n",
    "    dep = train.loc[:,[\"target\"]]\n",
    "    indep = train.iloc[:,3:]\n",
    "    result = predict.iloc[:,3:]\n",
    "    result_index = predict.iloc[:,0]\n",
    "    return (dep, indep, result, result_index)"
   ]
  },
  {
   "cell_type": "code",
   "execution_count": 6,
   "metadata": {
    "collapsed": true
   },
   "outputs": [],
   "source": [
    "atm_data =pd.read_csv(r\"\\atm_features_no_outliers.csv\",\";\", engine=\"python\")\n",
    "atm_data = atm_data.sort_values([\"is_test\", \"original_index\"])"
   ]
  },
  {
   "cell_type": "code",
   "execution_count": 7,
   "metadata": {
    "collapsed": true
   },
   "outputs": [],
   "source": [
    "features = ['original_index','target', 'is_test','region_type', 'status', 'federal', 'dist_to_center', 'population',\n",
    "       'home_atm_in_range', 'objects_in_range',\n",
    "       'closest_category', 'closest_place','shops_in_range', 'tourism_in_range',\n",
    "       'amenity_in_range', 'public_transport_in_range',\n",
    "       'dist_to_closest_transport', 'dist_to_closest_tourism',\n",
    "       'dist_to_closest_shop', \n",
    "       'dist_to_closest_object',\n",
    "       'banks_in_range', 'dist_to_closest_parking',\n",
    "       'large_shops_in_range', 'market_in_range',  'atm_group',\n",
    "       'lat', \n",
    "        'long', \n",
    "        'city_center_lat', 'city_center_long',\n",
    "        'dist_to_closest_place_cafe',\n",
    "        'dist_to_closest_place_clinic',\n",
    "        'dist_to_closest_place_convenience',\n",
    "        'dist_to_closest_place_department_store',\n",
    "        'dist_to_closest_place_hospital',\n",
    "        'dist_to_closest_place_hotel',\n",
    "        'dist_to_closest_place_kindergarten',\n",
    "        'dist_to_closest_place_kiosk',\n",
    "        'dist_to_closest_place_mall',\n",
    "        'dist_to_closest_place_marketplace',\n",
    "        'dist_to_closest_place_place_of_worship',\n",
    "        'dist_to_closest_place_public_building',\n",
    "        'dist_to_closest_place_school',\n",
    "        'dist_to_closest_place_supermarket',\n",
    "        'dist_to_closest_place_townhall',\n",
    "        'dist_to_closest_place_university',\n",
    "        'dist_to_closest_atm1',\n",
    "        'dist_to_closest_atm2',\n",
    "        'dist_to_closest_atm3',\n",
    "        'dist_to_closest_atm4',\n",
    "        'dist_to_closest_atm5',\n",
    "        'dist_to_closest_atm_average',\n",
    "        'post_index',\n",
    "        'count_on_same_address',\n",
    "        'count_in_same_city',\n",
    "        'city',\n",
    "        'closest_levels',\n",
    "        'average_levels',\n",
    "        'max_levels',\n",
    "        'dist_to_closest_building',\n",
    "        'dist_to_closest_high_building',\n",
    "        'count_of_buildings',\n",
    "        'average_levels_of_closest_buildings',\n",
    "            'people_on_atm'\n",
    "           ]"
   ]
  },
  {
   "cell_type": "code",
   "execution_count": 8,
   "metadata": {
    "collapsed": true
   },
   "outputs": [],
   "source": [
    "rare_place = atm_data[\"closest_place\"].value_counts()[atm_data[\"closest_place\"].value_counts() < 50].index\n",
    "atm_data[\"closest_place\"] = atm_data[\"closest_place\"].apply(lambda x: 'rare' if x in rare_place else x)\n",
    "\n",
    "rare_city = atm_data[\"city\"].value_counts()[atm_data[\"city\"].value_counts() < 20].index\n",
    "atm_data[\"city\"] = atm_data[\"city\"].apply(lambda x: 'rare' if x in rare_place else x)\n",
    "\n",
    "data =atm_data.loc[:,features]\n",
    "data[\"closest_place\"]= data[\"closest_place\"].rank().fillna(-1)\n",
    "data[\"city\"]= data[\"city\"].rank().fillna(-1)\n",
    "data[\"post_index\"]= data[\"post_index\"].rank().fillna(-1)\n",
    "data[\"closest_category\"]= data[\"closest_category\"].rank().fillna(-1)\n",
    "data[\"federal\"]= data[\"federal\"].rank().fillna(-1)\n",
    "data[\"region_type\"]= data[\"region_type\"].rank().fillna(-1)\n",
    "data[\"lat\"]=np.power(data[\"lat\"],2)\n",
    "data[\"people_on_atm\"] = data[\"population\"] / data[\"count_in_same_city\"]\n",
    "data[data[\"dist_to_center\"]>10000][\"dist_to_center\"] = None\n"
   ]
  },
  {
   "cell_type": "code",
   "execution_count": 33,
   "metadata": {},
   "outputs": [
    {
     "name": "stdout",
     "output_type": "stream",
     "text": [
      "0.0403864301023838 0.041046060931222345 50000\n"
     ]
    }
   ],
   "source": [
    "dep, indep, result, result_index = prepare_data(data)\n",
    "indep_train, indep_test, dep_train, dep_test = train_test_split(indep, dep, test_size=0.40, random_state=32)\n",
    "pmean, pmean_train, rmean = make_models(dep, indep, result, 5, 50000)  "
   ]
  },
  {
   "cell_type": "code",
   "execution_count": 14,
   "metadata": {
    "collapsed": true
   },
   "outputs": [],
   "source": []
  },
  {
   "cell_type": "code",
   "execution_count": 34,
   "metadata": {
    "collapsed": true
   },
   "outputs": [],
   "source": [
    "to_send=pd.DataFrame(rmean, columns=[\"target\"])\n",
    "to_send.index = result_index\n",
    "to_send.index = to_send.index.astype(np.int)\n",
    "to_send.to_csv(r\"\\result_50000.csv\",\",\")"
   ]
  },
  {
   "cell_type": "code",
   "execution_count": 16,
   "metadata": {},
   "outputs": [
    {
     "name": "stdout",
     "output_type": "stream",
     "text": [
      "0.043684854295904275 -0.0444739704553\n"
     ]
    }
   ],
   "source": [
    "#for i in range (2, 40):\n",
    "gs1 = lgb.LGBMRegressor(objective = 'regression',\n",
    "                   max_depth = 5,\n",
    "                   learning_rate = 0.068, lambda_l1 = 0.0009, lambda_l2 = 0.0064,\n",
    "                   n_estimators = 95, n_jobs=10, num_leaves=17, min_child_samples = 10 )\n",
    "gs1.fit(indep_train, dep_train, eval_set=[(indep_test, dep_test)], eval_metric='rmse', early_stopping_rounds=5, verbose=False);\n",
    "rmse_scorer = make_scorer(rmse, greater_is_better=False)\n",
    "cvs = cross_val_score(gs1, indep_test, dep_test, scoring=rmse_scorer, cv=5)\n",
    "\n",
    "print(rmse(y_true=dep_test, y_pred=gs1.predict(indep_test)), cvs.mean()) \n",
    "#    \"\"\"\n",
    "#;"
   ]
  },
  {
   "cell_type": "code",
   "execution_count": null,
   "metadata": {
    "collapsed": true
   },
   "outputs": [],
   "source": [
    "gs1 = lgb.LGBMRegressor(objective = 'regression',\n",
    "                       max_depth = 5,\n",
    "                       learning_rate = 0.068, lambda_l1 = 0.0009, lambda_l2 = 0.0064,\n",
    "                       n_estimators = 95, n_jobs=10, num_leaves=17, min_child_samples = 10 )\n",
    "gs1.fit(indep_train, dep_train, eval_set=[(indep_test, dep_test)], eval_metric='rmse', early_stopping_rounds=5, verbose=False);\n",
    "rmse_scorer = make_scorer(rmse, greater_is_better=False)\n",
    "cvs = cross_val_score(gs1, indep_test, dep_test, scoring=rmse_scorer, cv=5)\n",
    "\n",
    "print(rmse(y_true=dep_test, y_pred=gs1.predict(indep_test)), -cvs.mean()) \n",
    "\n",
    "attr2 = dict(zip(indep.columns, gs1.feature_importances_))\n",
    "attr2 = sorted(attr2.items(), key=lambda x: x[1], reverse = False)\n",
    "x1,y1 = zip(*attr2)\n",
    "i1=range(len(x1))\n",
    "plt.figure(num=None, figsize=(9, 12), dpi=300, facecolor='w', edgecolor='k')\n",
    "plt.barh(i1, y1)\n",
    "plt.title(\"LGBM\")\n",
    "plt.yticks(i1, x1)\n",
    "plt.show();"
   ]
  },
  {
   "cell_type": "code",
   "execution_count": null,
   "metadata": {
    "collapsed": true
   },
   "outputs": [],
   "source": []
  },
  {
   "cell_type": "code",
   "execution_count": null,
   "metadata": {
    "collapsed": true
   },
   "outputs": [],
   "source": []
  }
 ],
 "metadata": {
  "kernelspec": {
   "display_name": "Python 3",
   "language": "python",
   "name": "python3"
  },
  "language_info": {
   "codemirror_mode": {
    "name": "ipython",
    "version": 3
   },
   "file_extension": ".py",
   "mimetype": "text/x-python",
   "name": "python",
   "nbconvert_exporter": "python",
   "pygments_lexer": "ipython3",
   "version": "3.6.1"
  }
 },
 "nbformat": 4,
 "nbformat_minor": 2
}
